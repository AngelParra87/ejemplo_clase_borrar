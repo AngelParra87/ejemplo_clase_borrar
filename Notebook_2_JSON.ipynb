{
  "nbformat": 4,
  "nbformat_minor": 0,
  "metadata": {
    "colab": {
      "provenance": [],
      "toc_visible": true,
      "include_colab_link": true
    },
    "kernelspec": {
      "name": "python3",
      "display_name": "Python 3"
    },
    "language_info": {
      "name": "python"
    }
  },
  "cells": [
    {
      "cell_type": "markdown",
      "metadata": {
        "id": "view-in-github",
        "colab_type": "text"
      },
      "source": [
        "<a href=\"https://colab.research.google.com/github/AngelParra87/ejemplo_clase_borrar/blob/main/Notebook_2_JSON.ipynb\" target=\"_parent\"><img src=\"https://colab.research.google.com/assets/colab-badge.svg\" alt=\"Open In Colab\"/></a>"
      ]
    },
    {
      "cell_type": "markdown",
      "source": [
        "# JSON\n",
        "\n",
        "* JavaScript Object Notation\n",
        "\n",
        "* Usados en almacenamiento de información web y APIs\n",
        "\n",
        "* Son archivos de texto plano, con formato diccionario\n",
        "\n",
        "\n",
        "\n"
      ],
      "metadata": {
        "id": "jOSWrfMWzki3"
      }
    },
    {
      "cell_type": "markdown",
      "source": [
        "# Abriendo con with statement"
      ],
      "metadata": {
        "id": "L0XRzj4zjP9V"
      }
    },
    {
      "cell_type": "markdown",
      "source": [
        "- Cuando abrimos archivos en Python, creamos una conexión con `open(archivo)`.\n",
        "\n",
        "- Tras hacer las modificaciones que queramos, debemos recordar que esta conexión luego debe cerrarse con `.close()`\n",
        "\n",
        "- Para evitar que se nos olvide y cerrar esta conexión de forma automática, usamos el **with statement**\n",
        "\n",
        "- El *keyword* `with` hará que nuestra función `open()` cierre la conexión automáticamente tras ejecutarse, así no nos preocupamos nosotros de hacerlo.\n",
        "\n",
        "La estructura es la siguiente:"
      ],
      "metadata": {
        "id": "8TwkAj7JAqDF"
      }
    },
    {
      "cell_type": "code",
      "source": [
        "with open('prueba.txt', 'w') as f:\n",
        "\n",
        "  f.write('MASTERMIND')"
      ],
      "metadata": {
        "id": "DMPw03u1kYkH"
      },
      "execution_count": null,
      "outputs": []
    },
    {
      "cell_type": "markdown",
      "source": [
        "- Esto nos sirve también para archivos **JSON**.\n",
        "- Para poder abrir estos archivos, ejecutaremos el `open()` con la ruta del archivo **JSON**\n",
        "- Luego, usaremos la función `.load()` de la librería json y asignaremos su resultado a una variable (*dct*) que será el diccionario con su contenido:\n"
      ],
      "metadata": {
        "id": "pGAKt1VmCFyb"
      }
    },
    {
      "cell_type": "code",
      "source": [
        "import json\n",
        "\n",
        "path = '/content/sample_data/anscombe.json'\n",
        "\n",
        "with open(path, 'r') as f:\n",
        "\n",
        "  dct = json.load(f)"
      ],
      "metadata": {
        "id": "rzRgVDFVlnEq"
      },
      "execution_count": null,
      "outputs": []
    },
    {
      "cell_type": "code",
      "source": [
        "dct[:5]"
      ],
      "metadata": {
        "colab": {
          "base_uri": "https://localhost:8080/"
        },
        "id": "w0lAtSF4mShD",
        "outputId": "31509236-5fe0-4563-89d7-b5cc43f49dfc"
      },
      "execution_count": null,
      "outputs": [
        {
          "output_type": "execute_result",
          "data": {
            "text/plain": [
              "[{'Series': 'I', 'X': 10.0, 'Y': 8.04},\n",
              " {'Series': 'I', 'X': 8.0, 'Y': 6.95},\n",
              " {'Series': 'I', 'X': 13.0, 'Y': 7.58},\n",
              " {'Series': 'I', 'X': 9.0, 'Y': 8.81},\n",
              " {'Series': 'I', 'X': 11.0, 'Y': 8.33}]"
            ]
          },
          "metadata": {},
          "execution_count": 11
        }
      ]
    },
    {
      "cell_type": "markdown",
      "source": [
        "# De JSON a DataFrame\n"
      ],
      "metadata": {
        "id": "G6aX_0zImS-t"
      }
    },
    {
      "cell_type": "markdown",
      "source": [
        "Con Pandas, cargar archivos **JSON** es muy sencillo, simplemente usaremos el método `pd.read_json(ruta_archivo)`.\n",
        "- En este caso, ni siquiera es necesario usar el `open()` ni el *with statement*, ya que todo el contenido del archivo se vuelca en un *DataFrame* y su correspondiente variable:"
      ],
      "metadata": {
        "id": "Lxz7SvR_qrOl"
      }
    },
    {
      "cell_type": "code",
      "source": [
        "import pandas as pd\n",
        "\n",
        "path = '/content/sample_data/anscombe.json'\n",
        "\n",
        "df = pd.read_json(path)\n",
        "\n",
        "df.head()"
      ],
      "metadata": {
        "colab": {
          "base_uri": "https://localhost:8080/",
          "height": 206
        },
        "id": "-WF7alPxq3Vn",
        "outputId": "b7d0ff14-1bb4-4331-9659-ecd33ebd2249"
      },
      "execution_count": null,
      "outputs": [
        {
          "output_type": "execute_result",
          "data": {
            "text/plain": [
              "  Series   X     Y\n",
              "0      I  10  8.04\n",
              "1      I   8  6.95\n",
              "2      I  13  7.58\n",
              "3      I   9  8.81\n",
              "4      I  11  8.33"
            ],
            "text/html": [
              "\n",
              "  <div id=\"df-a0aeddea-035d-4069-b30d-8818620ab377\">\n",
              "    <div class=\"colab-df-container\">\n",
              "      <div>\n",
              "<style scoped>\n",
              "    .dataframe tbody tr th:only-of-type {\n",
              "        vertical-align: middle;\n",
              "    }\n",
              "\n",
              "    .dataframe tbody tr th {\n",
              "        vertical-align: top;\n",
              "    }\n",
              "\n",
              "    .dataframe thead th {\n",
              "        text-align: right;\n",
              "    }\n",
              "</style>\n",
              "<table border=\"1\" class=\"dataframe\">\n",
              "  <thead>\n",
              "    <tr style=\"text-align: right;\">\n",
              "      <th></th>\n",
              "      <th>Series</th>\n",
              "      <th>X</th>\n",
              "      <th>Y</th>\n",
              "    </tr>\n",
              "  </thead>\n",
              "  <tbody>\n",
              "    <tr>\n",
              "      <th>0</th>\n",
              "      <td>I</td>\n",
              "      <td>10</td>\n",
              "      <td>8.04</td>\n",
              "    </tr>\n",
              "    <tr>\n",
              "      <th>1</th>\n",
              "      <td>I</td>\n",
              "      <td>8</td>\n",
              "      <td>6.95</td>\n",
              "    </tr>\n",
              "    <tr>\n",
              "      <th>2</th>\n",
              "      <td>I</td>\n",
              "      <td>13</td>\n",
              "      <td>7.58</td>\n",
              "    </tr>\n",
              "    <tr>\n",
              "      <th>3</th>\n",
              "      <td>I</td>\n",
              "      <td>9</td>\n",
              "      <td>8.81</td>\n",
              "    </tr>\n",
              "    <tr>\n",
              "      <th>4</th>\n",
              "      <td>I</td>\n",
              "      <td>11</td>\n",
              "      <td>8.33</td>\n",
              "    </tr>\n",
              "  </tbody>\n",
              "</table>\n",
              "</div>\n",
              "      <button class=\"colab-df-convert\" onclick=\"convertToInteractive('df-a0aeddea-035d-4069-b30d-8818620ab377')\"\n",
              "              title=\"Convert this dataframe to an interactive table.\"\n",
              "              style=\"display:none;\">\n",
              "        \n",
              "  <svg xmlns=\"http://www.w3.org/2000/svg\" height=\"24px\"viewBox=\"0 0 24 24\"\n",
              "       width=\"24px\">\n",
              "    <path d=\"M0 0h24v24H0V0z\" fill=\"none\"/>\n",
              "    <path d=\"M18.56 5.44l.94 2.06.94-2.06 2.06-.94-2.06-.94-.94-2.06-.94 2.06-2.06.94zm-11 1L8.5 8.5l.94-2.06 2.06-.94-2.06-.94L8.5 2.5l-.94 2.06-2.06.94zm10 10l.94 2.06.94-2.06 2.06-.94-2.06-.94-.94-2.06-.94 2.06-2.06.94z\"/><path d=\"M17.41 7.96l-1.37-1.37c-.4-.4-.92-.59-1.43-.59-.52 0-1.04.2-1.43.59L10.3 9.45l-7.72 7.72c-.78.78-.78 2.05 0 2.83L4 21.41c.39.39.9.59 1.41.59.51 0 1.02-.2 1.41-.59l7.78-7.78 2.81-2.81c.8-.78.8-2.07 0-2.86zM5.41 20L4 18.59l7.72-7.72 1.47 1.35L5.41 20z\"/>\n",
              "  </svg>\n",
              "      </button>\n",
              "      \n",
              "  <style>\n",
              "    .colab-df-container {\n",
              "      display:flex;\n",
              "      flex-wrap:wrap;\n",
              "      gap: 12px;\n",
              "    }\n",
              "\n",
              "    .colab-df-convert {\n",
              "      background-color: #E8F0FE;\n",
              "      border: none;\n",
              "      border-radius: 50%;\n",
              "      cursor: pointer;\n",
              "      display: none;\n",
              "      fill: #1967D2;\n",
              "      height: 32px;\n",
              "      padding: 0 0 0 0;\n",
              "      width: 32px;\n",
              "    }\n",
              "\n",
              "    .colab-df-convert:hover {\n",
              "      background-color: #E2EBFA;\n",
              "      box-shadow: 0px 1px 2px rgba(60, 64, 67, 0.3), 0px 1px 3px 1px rgba(60, 64, 67, 0.15);\n",
              "      fill: #174EA6;\n",
              "    }\n",
              "\n",
              "    [theme=dark] .colab-df-convert {\n",
              "      background-color: #3B4455;\n",
              "      fill: #D2E3FC;\n",
              "    }\n",
              "\n",
              "    [theme=dark] .colab-df-convert:hover {\n",
              "      background-color: #434B5C;\n",
              "      box-shadow: 0px 1px 3px 1px rgba(0, 0, 0, 0.15);\n",
              "      filter: drop-shadow(0px 1px 2px rgba(0, 0, 0, 0.3));\n",
              "      fill: #FFFFFF;\n",
              "    }\n",
              "  </style>\n",
              "\n",
              "      <script>\n",
              "        const buttonEl =\n",
              "          document.querySelector('#df-a0aeddea-035d-4069-b30d-8818620ab377 button.colab-df-convert');\n",
              "        buttonEl.style.display =\n",
              "          google.colab.kernel.accessAllowed ? 'block' : 'none';\n",
              "\n",
              "        async function convertToInteractive(key) {\n",
              "          const element = document.querySelector('#df-a0aeddea-035d-4069-b30d-8818620ab377');\n",
              "          const dataTable =\n",
              "            await google.colab.kernel.invokeFunction('convertToInteractive',\n",
              "                                                     [key], {});\n",
              "          if (!dataTable) return;\n",
              "\n",
              "          const docLinkHtml = 'Like what you see? Visit the ' +\n",
              "            '<a target=\"_blank\" href=https://colab.research.google.com/notebooks/data_table.ipynb>data table notebook</a>'\n",
              "            + ' to learn more about interactive tables.';\n",
              "          element.innerHTML = '';\n",
              "          dataTable['output_type'] = 'display_data';\n",
              "          await google.colab.output.renderOutput(dataTable, element);\n",
              "          const docLink = document.createElement('div');\n",
              "          docLink.innerHTML = docLinkHtml;\n",
              "          element.appendChild(docLink);\n",
              "        }\n",
              "      </script>\n",
              "    </div>\n",
              "  </div>\n",
              "  "
            ]
          },
          "metadata": {},
          "execution_count": 12
        }
      ]
    },
    {
      "cell_type": "markdown",
      "source": [
        "- Esto funciona de maravilla con diccionarios simples\n",
        "- Pero qué sucede si nos encontramos con archivos **JSON** que contienen diccionarios *anidados (nested)*?\n",
        "\n",
        "- Para conseguir el archivo **JSON** `'music.json'` empleado para este ejemplo, deberás descargarlo desde [aquí](https://drive.google.com/file/d/1yS_dCA6CZvr_4pvyF2nSqXgXJ2NfV_xF/view?usp=sharing), y adjuntar la ruta en la variable `path`"
      ],
      "metadata": {
        "id": "e1kfmlLLqXpU"
      }
    },
    {
      "cell_type": "code",
      "source": [
        "path = 'ruta_del_archivo_music.json'\n",
        "\n",
        "df = pd.read_json(path)\n",
        "\n",
        "df.head()"
      ],
      "metadata": {
        "id": "W730hAukrDXV"
      },
      "execution_count": null,
      "outputs": []
    },
    {
      "cell_type": "markdown",
      "source": [
        "- Vemos que en las columnas `pop` y `rock` contenemos listas con diccionarios dentro. Esto no es ideal.\n",
        "- Para solucionarlo, vamos a tener que fijarnos en la estructura del diccionario contenido en el archivo **JSON**, ahora sí, con nuestro `with` statement, ya que lo pasaremos a una variable como diccionario, y no como *DataFrame*:"
      ],
      "metadata": {
        "id": "aGw18jfW6mY7"
      }
    },
    {
      "cell_type": "code",
      "source": [
        "path = 'ruta_del_archivo_music.json'\n",
        "\n",
        "with open(path, 'r') as f:\n",
        "\n",
        "  data = json.load(f)"
      ],
      "metadata": {
        "id": "vxbNlrz6rSSC"
      },
      "execution_count": null,
      "outputs": []
    },
    {
      "cell_type": "code",
      "source": [
        "data"
      ],
      "metadata": {
        "colab": {
          "base_uri": "https://localhost:8080/"
        },
        "id": "Y2gYMw_Tre6X",
        "outputId": "64a121fc-0a52-4f65-bace-ea581b42a21e"
      },
      "execution_count": null,
      "outputs": [
        {
          "output_type": "execute_result",
          "data": {
            "text/plain": [
              "{'decada': 1970,\n",
              " 'plataforma': 'Spotify',\n",
              " 'pop': {'usa': [{'id': 1, 'nombre': 'U2'}, {'id': 2, 'nombre': 'Take That'}],\n",
              "  'uk': [{'id': 3, 'nombre': 'The Beatles'}, {'id': 4, 'nombre': 'Oasis'}]},\n",
              " 'rock': {'usa': [{'id': 5, 'nombre': 'Nirvana'},\n",
              "   {'id': 6, 'nombre': 'Aerosmith'}],\n",
              "  'uk': [{'id': 7, 'nombre': 'Pink Floyd'}, {'id': 8, 'nombre': 'The Who'}]}}"
            ]
          },
          "metadata": {},
          "execution_count": 17
        }
      ]
    },
    {
      "cell_type": "markdown",
      "source": [
        "- Si nuestro objetivo es ver la estructura de este diccionario, con este formato tenemos un problema. \n",
        "- Se hace complicado ver cómo se anidan (o nestean) las diferentes estructuras de datos entre ellas.\n",
        "- Para tener una mejor visión de lo que ocurre, recurriremos a una función de la librería `json` *que no está diseñada para esta finalidad*, pero nos sirve"
      ],
      "metadata": {
        "id": "hFi_PknbVLwk"
      }
    },
    {
      "cell_type": "markdown",
      "source": [
        "## Indentar diccionarios"
      ],
      "metadata": {
        "id": "Tq3PTN4rYUB9"
      }
    },
    {
      "cell_type": "markdown",
      "source": [
        "- Nosotros que dominamos Python, sabemos que la indentación es algo imprescindible para poder programar. Al no existir comandos para indicar los finales de línea, este lenguaje recurre a estos espacios para indicar bloques de código.\n",
        "- Esta indentación también la podemos aplicar a los diccionarios, esta vez con la única finalidad de poder leerlos mejor.\n",
        "- Usaremos la función `print(json.dumps(dct, indent))` para aplicar esta indentación.\n",
        "- Es importante el `print()` ya que esta función, en realidad se encarga de guardar un diccionario como archivo **JSON**, pero esto ya lo veremos más adelante. Básicamente, si no usamos este `print`, la línea generará un archivo **JSON**. Tienes la documentación sobre esta función [aquí](https://docs.python.org/3/library/json.html)"
      ],
      "metadata": {
        "id": "-2tMrr7OYall"
      }
    },
    {
      "cell_type": "code",
      "source": [
        "print(json.dumps(data, indent = 4))"
      ],
      "metadata": {
        "colab": {
          "base_uri": "https://localhost:8080/"
        },
        "id": "OwzX1KgPrffb",
        "outputId": "e8a07439-5d1a-41f2-ee06-3376abc4a2d4"
      },
      "execution_count": null,
      "outputs": [
        {
          "output_type": "stream",
          "name": "stdout",
          "text": [
            "{\n",
            "    \"decada\": 1970,\n",
            "    \"plataforma\": \"Spotify\",\n",
            "    \"pop\": {\n",
            "        \"usa\": [\n",
            "            {\n",
            "                \"id\": 1,\n",
            "                \"nombre\": \"U2\"\n",
            "            },\n",
            "            {\n",
            "                \"id\": 2,\n",
            "                \"nombre\": \"Take That\"\n",
            "            }\n",
            "        ],\n",
            "        \"uk\": [\n",
            "            {\n",
            "                \"id\": 3,\n",
            "                \"nombre\": \"The Beatles\"\n",
            "            },\n",
            "            {\n",
            "                \"id\": 4,\n",
            "                \"nombre\": \"Oasis\"\n",
            "            }\n",
            "        ]\n",
            "    },\n",
            "    \"rock\": {\n",
            "        \"usa\": [\n",
            "            {\n",
            "                \"id\": 5,\n",
            "                \"nombre\": \"Nirvana\"\n",
            "            },\n",
            "            {\n",
            "                \"id\": 6,\n",
            "                \"nombre\": \"Aerosmith\"\n",
            "            }\n",
            "        ],\n",
            "        \"uk\": [\n",
            "            {\n",
            "                \"id\": 7,\n",
            "                \"nombre\": \"Pink Floyd\"\n",
            "            },\n",
            "            {\n",
            "                \"id\": 8,\n",
            "                \"nombre\": \"The Who\"\n",
            "            }\n",
            "        ]\n",
            "    }\n",
            "}\n"
          ]
        }
      ]
    },
    {
      "cell_type": "markdown",
      "source": [
        "## Normalizando JSON\n"
      ],
      "metadata": {
        "id": "_cm6pT1ocsMH"
      }
    },
    {
      "cell_type": "markdown",
      "source": [
        "- Pandas, como librería de calidad que es, tiene en cuenta que a la hora de importar estos JSON como DataFrame podemos encontrarnos con esta serie de problemas.\n",
        "\n",
        "- Por eso encontramos la función `pd.json_normalize(json/dict)`, que funciona como `pd.read_csv()` pero orientado a formatear diccionarios nesteados."
      ],
      "metadata": {
        "id": "2IKe5_zFzDjC"
      }
    },
    {
      "cell_type": "code",
      "source": [
        "df = pd.json_normalize(data)"
      ],
      "metadata": {
        "id": "e-cUkEJurxNy"
      },
      "execution_count": null,
      "outputs": []
    },
    {
      "cell_type": "code",
      "source": [
        "df"
      ],
      "metadata": {
        "colab": {
          "base_uri": "https://localhost:8080/",
          "height": 81
        },
        "id": "XEyW-9d1sw9x",
        "outputId": "26286b4a-2dd9-49a4-94cb-5bb95607efa2"
      },
      "execution_count": null,
      "outputs": [
        {
          "output_type": "execute_result",
          "data": {
            "text/plain": [
              "   decada plataforma                                            pop.usa  \\\n",
              "0    1970    Spotify  [{'id': 1, 'nombre': 'U2'}, {'id': 2, 'nombre'...   \n",
              "\n",
              "                                              pop.uk  \\\n",
              "0  [{'id': 3, 'nombre': 'The Beatles'}, {'id': 4,...   \n",
              "\n",
              "                                            rock.usa  \\\n",
              "0  [{'id': 5, 'nombre': 'Nirvana'}, {'id': 6, 'no...   \n",
              "\n",
              "                                             rock.uk  \n",
              "0  [{'id': 7, 'nombre': 'Pink Floyd'}, {'id': 8, ...  "
            ],
            "text/html": [
              "\n",
              "  <div id=\"df-19003300-2ce1-4fd7-b1f9-815ee2bc607c\">\n",
              "    <div class=\"colab-df-container\">\n",
              "      <div>\n",
              "<style scoped>\n",
              "    .dataframe tbody tr th:only-of-type {\n",
              "        vertical-align: middle;\n",
              "    }\n",
              "\n",
              "    .dataframe tbody tr th {\n",
              "        vertical-align: top;\n",
              "    }\n",
              "\n",
              "    .dataframe thead th {\n",
              "        text-align: right;\n",
              "    }\n",
              "</style>\n",
              "<table border=\"1\" class=\"dataframe\">\n",
              "  <thead>\n",
              "    <tr style=\"text-align: right;\">\n",
              "      <th></th>\n",
              "      <th>decada</th>\n",
              "      <th>plataforma</th>\n",
              "      <th>pop.usa</th>\n",
              "      <th>pop.uk</th>\n",
              "      <th>rock.usa</th>\n",
              "      <th>rock.uk</th>\n",
              "    </tr>\n",
              "  </thead>\n",
              "  <tbody>\n",
              "    <tr>\n",
              "      <th>0</th>\n",
              "      <td>1970</td>\n",
              "      <td>Spotify</td>\n",
              "      <td>[{'id': 1, 'nombre': 'U2'}, {'id': 2, 'nombre'...</td>\n",
              "      <td>[{'id': 3, 'nombre': 'The Beatles'}, {'id': 4,...</td>\n",
              "      <td>[{'id': 5, 'nombre': 'Nirvana'}, {'id': 6, 'no...</td>\n",
              "      <td>[{'id': 7, 'nombre': 'Pink Floyd'}, {'id': 8, ...</td>\n",
              "    </tr>\n",
              "  </tbody>\n",
              "</table>\n",
              "</div>\n",
              "      <button class=\"colab-df-convert\" onclick=\"convertToInteractive('df-19003300-2ce1-4fd7-b1f9-815ee2bc607c')\"\n",
              "              title=\"Convert this dataframe to an interactive table.\"\n",
              "              style=\"display:none;\">\n",
              "        \n",
              "  <svg xmlns=\"http://www.w3.org/2000/svg\" height=\"24px\"viewBox=\"0 0 24 24\"\n",
              "       width=\"24px\">\n",
              "    <path d=\"M0 0h24v24H0V0z\" fill=\"none\"/>\n",
              "    <path d=\"M18.56 5.44l.94 2.06.94-2.06 2.06-.94-2.06-.94-.94-2.06-.94 2.06-2.06.94zm-11 1L8.5 8.5l.94-2.06 2.06-.94-2.06-.94L8.5 2.5l-.94 2.06-2.06.94zm10 10l.94 2.06.94-2.06 2.06-.94-2.06-.94-.94-2.06-.94 2.06-2.06.94z\"/><path d=\"M17.41 7.96l-1.37-1.37c-.4-.4-.92-.59-1.43-.59-.52 0-1.04.2-1.43.59L10.3 9.45l-7.72 7.72c-.78.78-.78 2.05 0 2.83L4 21.41c.39.39.9.59 1.41.59.51 0 1.02-.2 1.41-.59l7.78-7.78 2.81-2.81c.8-.78.8-2.07 0-2.86zM5.41 20L4 18.59l7.72-7.72 1.47 1.35L5.41 20z\"/>\n",
              "  </svg>\n",
              "      </button>\n",
              "      \n",
              "  <style>\n",
              "    .colab-df-container {\n",
              "      display:flex;\n",
              "      flex-wrap:wrap;\n",
              "      gap: 12px;\n",
              "    }\n",
              "\n",
              "    .colab-df-convert {\n",
              "      background-color: #E8F0FE;\n",
              "      border: none;\n",
              "      border-radius: 50%;\n",
              "      cursor: pointer;\n",
              "      display: none;\n",
              "      fill: #1967D2;\n",
              "      height: 32px;\n",
              "      padding: 0 0 0 0;\n",
              "      width: 32px;\n",
              "    }\n",
              "\n",
              "    .colab-df-convert:hover {\n",
              "      background-color: #E2EBFA;\n",
              "      box-shadow: 0px 1px 2px rgba(60, 64, 67, 0.3), 0px 1px 3px 1px rgba(60, 64, 67, 0.15);\n",
              "      fill: #174EA6;\n",
              "    }\n",
              "\n",
              "    [theme=dark] .colab-df-convert {\n",
              "      background-color: #3B4455;\n",
              "      fill: #D2E3FC;\n",
              "    }\n",
              "\n",
              "    [theme=dark] .colab-df-convert:hover {\n",
              "      background-color: #434B5C;\n",
              "      box-shadow: 0px 1px 3px 1px rgba(0, 0, 0, 0.15);\n",
              "      filter: drop-shadow(0px 1px 2px rgba(0, 0, 0, 0.3));\n",
              "      fill: #FFFFFF;\n",
              "    }\n",
              "  </style>\n",
              "\n",
              "      <script>\n",
              "        const buttonEl =\n",
              "          document.querySelector('#df-19003300-2ce1-4fd7-b1f9-815ee2bc607c button.colab-df-convert');\n",
              "        buttonEl.style.display =\n",
              "          google.colab.kernel.accessAllowed ? 'block' : 'none';\n",
              "\n",
              "        async function convertToInteractive(key) {\n",
              "          const element = document.querySelector('#df-19003300-2ce1-4fd7-b1f9-815ee2bc607c');\n",
              "          const dataTable =\n",
              "            await google.colab.kernel.invokeFunction('convertToInteractive',\n",
              "                                                     [key], {});\n",
              "          if (!dataTable) return;\n",
              "\n",
              "          const docLinkHtml = 'Like what you see? Visit the ' +\n",
              "            '<a target=\"_blank\" href=https://colab.research.google.com/notebooks/data_table.ipynb>data table notebook</a>'\n",
              "            + ' to learn more about interactive tables.';\n",
              "          element.innerHTML = '';\n",
              "          dataTable['output_type'] = 'display_data';\n",
              "          await google.colab.output.renderOutput(dataTable, element);\n",
              "          const docLink = document.createElement('div');\n",
              "          docLink.innerHTML = docLinkHtml;\n",
              "          element.appendChild(docLink);\n",
              "        }\n",
              "      </script>\n",
              "    </div>\n",
              "  </div>\n",
              "  "
            ]
          },
          "metadata": {},
          "execution_count": 21
        }
      ]
    },
    {
      "cell_type": "markdown",
      "source": [
        "- El primer cambio que vemos es que al usar `json_normalize`, tiene en cuenta otro nivel de profundidad en el diccionario.\n",
        "- Antes teníamos las columnas `'pop'` y `'rock'`, ahora añaden el nivel 'usa, uk' por cada una de ellas, obteniendo 4 columnas adicionales: `pop.usa, pop.uk, rock.usa y rock.uk`\n",
        "- Pero `json_normalize` puede ir más lejos. Esta función acepta un argumento llamado `record_path`, en el que podemos especificar el camino que queremos seguir para extraer datos:"
      ],
      "metadata": {
        "id": "LtdSsAOr4bVL"
      }
    },
    {
      "cell_type": "code",
      "source": [
        "df = pd.json_normalize(data, record_path = ['pop', 'usa'])\n",
        "df['genero'] = 'pop'\n",
        "df['pais'] = 'usa'\n",
        "\n",
        "df"
      ],
      "metadata": {
        "colab": {
          "base_uri": "https://localhost:8080/",
          "height": 112
        },
        "id": "ogLQmhCWsyW0",
        "outputId": "0ee615f8-b8c2-4151-87e0-353faaf5849a"
      },
      "execution_count": null,
      "outputs": [
        {
          "output_type": "execute_result",
          "data": {
            "text/plain": [
              "   id     nombre genero pais\n",
              "0   1         U2    pop  usa\n",
              "1   2  Take That    pop  usa"
            ],
            "text/html": [
              "\n",
              "  <div id=\"df-02ed2c87-d736-44fc-8705-75422da27d47\">\n",
              "    <div class=\"colab-df-container\">\n",
              "      <div>\n",
              "<style scoped>\n",
              "    .dataframe tbody tr th:only-of-type {\n",
              "        vertical-align: middle;\n",
              "    }\n",
              "\n",
              "    .dataframe tbody tr th {\n",
              "        vertical-align: top;\n",
              "    }\n",
              "\n",
              "    .dataframe thead th {\n",
              "        text-align: right;\n",
              "    }\n",
              "</style>\n",
              "<table border=\"1\" class=\"dataframe\">\n",
              "  <thead>\n",
              "    <tr style=\"text-align: right;\">\n",
              "      <th></th>\n",
              "      <th>id</th>\n",
              "      <th>nombre</th>\n",
              "      <th>genero</th>\n",
              "      <th>pais</th>\n",
              "    </tr>\n",
              "  </thead>\n",
              "  <tbody>\n",
              "    <tr>\n",
              "      <th>0</th>\n",
              "      <td>1</td>\n",
              "      <td>U2</td>\n",
              "      <td>pop</td>\n",
              "      <td>usa</td>\n",
              "    </tr>\n",
              "    <tr>\n",
              "      <th>1</th>\n",
              "      <td>2</td>\n",
              "      <td>Take That</td>\n",
              "      <td>pop</td>\n",
              "      <td>usa</td>\n",
              "    </tr>\n",
              "  </tbody>\n",
              "</table>\n",
              "</div>\n",
              "      <button class=\"colab-df-convert\" onclick=\"convertToInteractive('df-02ed2c87-d736-44fc-8705-75422da27d47')\"\n",
              "              title=\"Convert this dataframe to an interactive table.\"\n",
              "              style=\"display:none;\">\n",
              "        \n",
              "  <svg xmlns=\"http://www.w3.org/2000/svg\" height=\"24px\"viewBox=\"0 0 24 24\"\n",
              "       width=\"24px\">\n",
              "    <path d=\"M0 0h24v24H0V0z\" fill=\"none\"/>\n",
              "    <path d=\"M18.56 5.44l.94 2.06.94-2.06 2.06-.94-2.06-.94-.94-2.06-.94 2.06-2.06.94zm-11 1L8.5 8.5l.94-2.06 2.06-.94-2.06-.94L8.5 2.5l-.94 2.06-2.06.94zm10 10l.94 2.06.94-2.06 2.06-.94-2.06-.94-.94-2.06-.94 2.06-2.06.94z\"/><path d=\"M17.41 7.96l-1.37-1.37c-.4-.4-.92-.59-1.43-.59-.52 0-1.04.2-1.43.59L10.3 9.45l-7.72 7.72c-.78.78-.78 2.05 0 2.83L4 21.41c.39.39.9.59 1.41.59.51 0 1.02-.2 1.41-.59l7.78-7.78 2.81-2.81c.8-.78.8-2.07 0-2.86zM5.41 20L4 18.59l7.72-7.72 1.47 1.35L5.41 20z\"/>\n",
              "  </svg>\n",
              "      </button>\n",
              "      \n",
              "  <style>\n",
              "    .colab-df-container {\n",
              "      display:flex;\n",
              "      flex-wrap:wrap;\n",
              "      gap: 12px;\n",
              "    }\n",
              "\n",
              "    .colab-df-convert {\n",
              "      background-color: #E8F0FE;\n",
              "      border: none;\n",
              "      border-radius: 50%;\n",
              "      cursor: pointer;\n",
              "      display: none;\n",
              "      fill: #1967D2;\n",
              "      height: 32px;\n",
              "      padding: 0 0 0 0;\n",
              "      width: 32px;\n",
              "    }\n",
              "\n",
              "    .colab-df-convert:hover {\n",
              "      background-color: #E2EBFA;\n",
              "      box-shadow: 0px 1px 2px rgba(60, 64, 67, 0.3), 0px 1px 3px 1px rgba(60, 64, 67, 0.15);\n",
              "      fill: #174EA6;\n",
              "    }\n",
              "\n",
              "    [theme=dark] .colab-df-convert {\n",
              "      background-color: #3B4455;\n",
              "      fill: #D2E3FC;\n",
              "    }\n",
              "\n",
              "    [theme=dark] .colab-df-convert:hover {\n",
              "      background-color: #434B5C;\n",
              "      box-shadow: 0px 1px 3px 1px rgba(0, 0, 0, 0.15);\n",
              "      filter: drop-shadow(0px 1px 2px rgba(0, 0, 0, 0.3));\n",
              "      fill: #FFFFFF;\n",
              "    }\n",
              "  </style>\n",
              "\n",
              "      <script>\n",
              "        const buttonEl =\n",
              "          document.querySelector('#df-02ed2c87-d736-44fc-8705-75422da27d47 button.colab-df-convert');\n",
              "        buttonEl.style.display =\n",
              "          google.colab.kernel.accessAllowed ? 'block' : 'none';\n",
              "\n",
              "        async function convertToInteractive(key) {\n",
              "          const element = document.querySelector('#df-02ed2c87-d736-44fc-8705-75422da27d47');\n",
              "          const dataTable =\n",
              "            await google.colab.kernel.invokeFunction('convertToInteractive',\n",
              "                                                     [key], {});\n",
              "          if (!dataTable) return;\n",
              "\n",
              "          const docLinkHtml = 'Like what you see? Visit the ' +\n",
              "            '<a target=\"_blank\" href=https://colab.research.google.com/notebooks/data_table.ipynb>data table notebook</a>'\n",
              "            + ' to learn more about interactive tables.';\n",
              "          element.innerHTML = '';\n",
              "          dataTable['output_type'] = 'display_data';\n",
              "          await google.colab.output.renderOutput(dataTable, element);\n",
              "          const docLink = document.createElement('div');\n",
              "          docLink.innerHTML = docLinkHtml;\n",
              "          element.appendChild(docLink);\n",
              "        }\n",
              "      </script>\n",
              "    </div>\n",
              "  </div>\n",
              "  "
            ]
          },
          "metadata": {},
          "execution_count": 22
        }
      ]
    },
    {
      "cell_type": "markdown",
      "source": [
        "- Vemos que, efectivamente, esta función extrae los contenidos dentro de `['pop']['usa']`\n",
        "- También existe otro argumento, que permite sacar datos que estan fuera del path que hemos indicado: el parámetro meta, que incluirá los valores de las llaves que indiquemos:\n"
      ],
      "metadata": {
        "id": "JMSG5cu66ABK"
      }
    },
    {
      "cell_type": "code",
      "source": [
        "df = pd.json_normalize(data, record_path = ['pop', 'usa'], meta = ['decada', 'plataforma'])\n",
        "df['genero'] = 'pop'\n",
        "df['pais'] = 'usa'\n",
        "\n",
        "df"
      ],
      "metadata": {
        "colab": {
          "base_uri": "https://localhost:8080/",
          "height": 112
        },
        "id": "WIsohv0262Np",
        "outputId": "65180e31-3bfb-4872-80f8-a680fabd5350"
      },
      "execution_count": null,
      "outputs": [
        {
          "output_type": "execute_result",
          "data": {
            "text/plain": [
              "   id     nombre decada plataforma genero pais\n",
              "0   1         U2   1970    Spotify    pop  usa\n",
              "1   2  Take That   1970    Spotify    pop  usa"
            ],
            "text/html": [
              "\n",
              "  <div id=\"df-8b84f333-f2f8-4e9c-a1b1-a653bda67cd6\">\n",
              "    <div class=\"colab-df-container\">\n",
              "      <div>\n",
              "<style scoped>\n",
              "    .dataframe tbody tr th:only-of-type {\n",
              "        vertical-align: middle;\n",
              "    }\n",
              "\n",
              "    .dataframe tbody tr th {\n",
              "        vertical-align: top;\n",
              "    }\n",
              "\n",
              "    .dataframe thead th {\n",
              "        text-align: right;\n",
              "    }\n",
              "</style>\n",
              "<table border=\"1\" class=\"dataframe\">\n",
              "  <thead>\n",
              "    <tr style=\"text-align: right;\">\n",
              "      <th></th>\n",
              "      <th>id</th>\n",
              "      <th>nombre</th>\n",
              "      <th>decada</th>\n",
              "      <th>plataforma</th>\n",
              "      <th>genero</th>\n",
              "      <th>pais</th>\n",
              "    </tr>\n",
              "  </thead>\n",
              "  <tbody>\n",
              "    <tr>\n",
              "      <th>0</th>\n",
              "      <td>1</td>\n",
              "      <td>U2</td>\n",
              "      <td>1970</td>\n",
              "      <td>Spotify</td>\n",
              "      <td>pop</td>\n",
              "      <td>usa</td>\n",
              "    </tr>\n",
              "    <tr>\n",
              "      <th>1</th>\n",
              "      <td>2</td>\n",
              "      <td>Take That</td>\n",
              "      <td>1970</td>\n",
              "      <td>Spotify</td>\n",
              "      <td>pop</td>\n",
              "      <td>usa</td>\n",
              "    </tr>\n",
              "  </tbody>\n",
              "</table>\n",
              "</div>\n",
              "      <button class=\"colab-df-convert\" onclick=\"convertToInteractive('df-8b84f333-f2f8-4e9c-a1b1-a653bda67cd6')\"\n",
              "              title=\"Convert this dataframe to an interactive table.\"\n",
              "              style=\"display:none;\">\n",
              "        \n",
              "  <svg xmlns=\"http://www.w3.org/2000/svg\" height=\"24px\"viewBox=\"0 0 24 24\"\n",
              "       width=\"24px\">\n",
              "    <path d=\"M0 0h24v24H0V0z\" fill=\"none\"/>\n",
              "    <path d=\"M18.56 5.44l.94 2.06.94-2.06 2.06-.94-2.06-.94-.94-2.06-.94 2.06-2.06.94zm-11 1L8.5 8.5l.94-2.06 2.06-.94-2.06-.94L8.5 2.5l-.94 2.06-2.06.94zm10 10l.94 2.06.94-2.06 2.06-.94-2.06-.94-.94-2.06-.94 2.06-2.06.94z\"/><path d=\"M17.41 7.96l-1.37-1.37c-.4-.4-.92-.59-1.43-.59-.52 0-1.04.2-1.43.59L10.3 9.45l-7.72 7.72c-.78.78-.78 2.05 0 2.83L4 21.41c.39.39.9.59 1.41.59.51 0 1.02-.2 1.41-.59l7.78-7.78 2.81-2.81c.8-.78.8-2.07 0-2.86zM5.41 20L4 18.59l7.72-7.72 1.47 1.35L5.41 20z\"/>\n",
              "  </svg>\n",
              "      </button>\n",
              "      \n",
              "  <style>\n",
              "    .colab-df-container {\n",
              "      display:flex;\n",
              "      flex-wrap:wrap;\n",
              "      gap: 12px;\n",
              "    }\n",
              "\n",
              "    .colab-df-convert {\n",
              "      background-color: #E8F0FE;\n",
              "      border: none;\n",
              "      border-radius: 50%;\n",
              "      cursor: pointer;\n",
              "      display: none;\n",
              "      fill: #1967D2;\n",
              "      height: 32px;\n",
              "      padding: 0 0 0 0;\n",
              "      width: 32px;\n",
              "    }\n",
              "\n",
              "    .colab-df-convert:hover {\n",
              "      background-color: #E2EBFA;\n",
              "      box-shadow: 0px 1px 2px rgba(60, 64, 67, 0.3), 0px 1px 3px 1px rgba(60, 64, 67, 0.15);\n",
              "      fill: #174EA6;\n",
              "    }\n",
              "\n",
              "    [theme=dark] .colab-df-convert {\n",
              "      background-color: #3B4455;\n",
              "      fill: #D2E3FC;\n",
              "    }\n",
              "\n",
              "    [theme=dark] .colab-df-convert:hover {\n",
              "      background-color: #434B5C;\n",
              "      box-shadow: 0px 1px 3px 1px rgba(0, 0, 0, 0.15);\n",
              "      filter: drop-shadow(0px 1px 2px rgba(0, 0, 0, 0.3));\n",
              "      fill: #FFFFFF;\n",
              "    }\n",
              "  </style>\n",
              "\n",
              "      <script>\n",
              "        const buttonEl =\n",
              "          document.querySelector('#df-8b84f333-f2f8-4e9c-a1b1-a653bda67cd6 button.colab-df-convert');\n",
              "        buttonEl.style.display =\n",
              "          google.colab.kernel.accessAllowed ? 'block' : 'none';\n",
              "\n",
              "        async function convertToInteractive(key) {\n",
              "          const element = document.querySelector('#df-8b84f333-f2f8-4e9c-a1b1-a653bda67cd6');\n",
              "          const dataTable =\n",
              "            await google.colab.kernel.invokeFunction('convertToInteractive',\n",
              "                                                     [key], {});\n",
              "          if (!dataTable) return;\n",
              "\n",
              "          const docLinkHtml = 'Like what you see? Visit the ' +\n",
              "            '<a target=\"_blank\" href=https://colab.research.google.com/notebooks/data_table.ipynb>data table notebook</a>'\n",
              "            + ' to learn more about interactive tables.';\n",
              "          element.innerHTML = '';\n",
              "          dataTable['output_type'] = 'display_data';\n",
              "          await google.colab.output.renderOutput(dataTable, element);\n",
              "          const docLink = document.createElement('div');\n",
              "          docLink.innerHTML = docLinkHtml;\n",
              "          element.appendChild(docLink);\n",
              "        }\n",
              "      </script>\n",
              "    </div>\n",
              "  </div>\n",
              "  "
            ]
          },
          "metadata": {},
          "execution_count": 25
        }
      ]
    },
    {
      "cell_type": "markdown",
      "source": [
        "- Podemos generar una función para hacer esto automáticamente:"
      ],
      "metadata": {
        "id": "5Gence0C61H7"
      }
    },
    {
      "cell_type": "code",
      "source": [
        "def parse_dict(df, genero, pais):\n",
        "\n",
        "  df = pd.json_normalize(data, [genero, pais], meta = ['decada', 'plataforma'])\n",
        "  df['genero'] = genero\n",
        "  df['pais'] = pais\n",
        "\n",
        "  return df"
      ],
      "metadata": {
        "id": "GRSYf5dptOHk"
      },
      "execution_count": null,
      "outputs": []
    },
    {
      "cell_type": "code",
      "source": [
        "parse_dict(data, 'pop', 'uk')"
      ],
      "metadata": {
        "colab": {
          "base_uri": "https://localhost:8080/",
          "height": 112
        },
        "id": "kSCtrQZ5uxmq",
        "outputId": "8b4ef1ae-64aa-4345-c1a8-6dc16044e292"
      },
      "execution_count": null,
      "outputs": [
        {
          "output_type": "execute_result",
          "data": {
            "text/plain": [
              "   id       nombre decada plataforma genero pais\n",
              "0   3  The Beatles   1970    Spotify    pop   uk\n",
              "1   4        Oasis   1970    Spotify    pop   uk"
            ],
            "text/html": [
              "\n",
              "  <div id=\"df-9ce88c8c-5dba-476a-8dc6-f4e207c86a67\">\n",
              "    <div class=\"colab-df-container\">\n",
              "      <div>\n",
              "<style scoped>\n",
              "    .dataframe tbody tr th:only-of-type {\n",
              "        vertical-align: middle;\n",
              "    }\n",
              "\n",
              "    .dataframe tbody tr th {\n",
              "        vertical-align: top;\n",
              "    }\n",
              "\n",
              "    .dataframe thead th {\n",
              "        text-align: right;\n",
              "    }\n",
              "</style>\n",
              "<table border=\"1\" class=\"dataframe\">\n",
              "  <thead>\n",
              "    <tr style=\"text-align: right;\">\n",
              "      <th></th>\n",
              "      <th>id</th>\n",
              "      <th>nombre</th>\n",
              "      <th>decada</th>\n",
              "      <th>plataforma</th>\n",
              "      <th>genero</th>\n",
              "      <th>pais</th>\n",
              "    </tr>\n",
              "  </thead>\n",
              "  <tbody>\n",
              "    <tr>\n",
              "      <th>0</th>\n",
              "      <td>3</td>\n",
              "      <td>The Beatles</td>\n",
              "      <td>1970</td>\n",
              "      <td>Spotify</td>\n",
              "      <td>pop</td>\n",
              "      <td>uk</td>\n",
              "    </tr>\n",
              "    <tr>\n",
              "      <th>1</th>\n",
              "      <td>4</td>\n",
              "      <td>Oasis</td>\n",
              "      <td>1970</td>\n",
              "      <td>Spotify</td>\n",
              "      <td>pop</td>\n",
              "      <td>uk</td>\n",
              "    </tr>\n",
              "  </tbody>\n",
              "</table>\n",
              "</div>\n",
              "      <button class=\"colab-df-convert\" onclick=\"convertToInteractive('df-9ce88c8c-5dba-476a-8dc6-f4e207c86a67')\"\n",
              "              title=\"Convert this dataframe to an interactive table.\"\n",
              "              style=\"display:none;\">\n",
              "        \n",
              "  <svg xmlns=\"http://www.w3.org/2000/svg\" height=\"24px\"viewBox=\"0 0 24 24\"\n",
              "       width=\"24px\">\n",
              "    <path d=\"M0 0h24v24H0V0z\" fill=\"none\"/>\n",
              "    <path d=\"M18.56 5.44l.94 2.06.94-2.06 2.06-.94-2.06-.94-.94-2.06-.94 2.06-2.06.94zm-11 1L8.5 8.5l.94-2.06 2.06-.94-2.06-.94L8.5 2.5l-.94 2.06-2.06.94zm10 10l.94 2.06.94-2.06 2.06-.94-2.06-.94-.94-2.06-.94 2.06-2.06.94z\"/><path d=\"M17.41 7.96l-1.37-1.37c-.4-.4-.92-.59-1.43-.59-.52 0-1.04.2-1.43.59L10.3 9.45l-7.72 7.72c-.78.78-.78 2.05 0 2.83L4 21.41c.39.39.9.59 1.41.59.51 0 1.02-.2 1.41-.59l7.78-7.78 2.81-2.81c.8-.78.8-2.07 0-2.86zM5.41 20L4 18.59l7.72-7.72 1.47 1.35L5.41 20z\"/>\n",
              "  </svg>\n",
              "      </button>\n",
              "      \n",
              "  <style>\n",
              "    .colab-df-container {\n",
              "      display:flex;\n",
              "      flex-wrap:wrap;\n",
              "      gap: 12px;\n",
              "    }\n",
              "\n",
              "    .colab-df-convert {\n",
              "      background-color: #E8F0FE;\n",
              "      border: none;\n",
              "      border-radius: 50%;\n",
              "      cursor: pointer;\n",
              "      display: none;\n",
              "      fill: #1967D2;\n",
              "      height: 32px;\n",
              "      padding: 0 0 0 0;\n",
              "      width: 32px;\n",
              "    }\n",
              "\n",
              "    .colab-df-convert:hover {\n",
              "      background-color: #E2EBFA;\n",
              "      box-shadow: 0px 1px 2px rgba(60, 64, 67, 0.3), 0px 1px 3px 1px rgba(60, 64, 67, 0.15);\n",
              "      fill: #174EA6;\n",
              "    }\n",
              "\n",
              "    [theme=dark] .colab-df-convert {\n",
              "      background-color: #3B4455;\n",
              "      fill: #D2E3FC;\n",
              "    }\n",
              "\n",
              "    [theme=dark] .colab-df-convert:hover {\n",
              "      background-color: #434B5C;\n",
              "      box-shadow: 0px 1px 3px 1px rgba(0, 0, 0, 0.15);\n",
              "      filter: drop-shadow(0px 1px 2px rgba(0, 0, 0, 0.3));\n",
              "      fill: #FFFFFF;\n",
              "    }\n",
              "  </style>\n",
              "\n",
              "      <script>\n",
              "        const buttonEl =\n",
              "          document.querySelector('#df-9ce88c8c-5dba-476a-8dc6-f4e207c86a67 button.colab-df-convert');\n",
              "        buttonEl.style.display =\n",
              "          google.colab.kernel.accessAllowed ? 'block' : 'none';\n",
              "\n",
              "        async function convertToInteractive(key) {\n",
              "          const element = document.querySelector('#df-9ce88c8c-5dba-476a-8dc6-f4e207c86a67');\n",
              "          const dataTable =\n",
              "            await google.colab.kernel.invokeFunction('convertToInteractive',\n",
              "                                                     [key], {});\n",
              "          if (!dataTable) return;\n",
              "\n",
              "          const docLinkHtml = 'Like what you see? Visit the ' +\n",
              "            '<a target=\"_blank\" href=https://colab.research.google.com/notebooks/data_table.ipynb>data table notebook</a>'\n",
              "            + ' to learn more about interactive tables.';\n",
              "          element.innerHTML = '';\n",
              "          dataTable['output_type'] = 'display_data';\n",
              "          await google.colab.output.renderOutput(dataTable, element);\n",
              "          const docLink = document.createElement('div');\n",
              "          docLink.innerHTML = docLinkHtml;\n",
              "          element.appendChild(docLink);\n",
              "        }\n",
              "      </script>\n",
              "    </div>\n",
              "  </div>\n",
              "  "
            ]
          },
          "metadata": {},
          "execution_count": 24
        }
      ]
    },
    {
      "cell_type": "markdown",
      "source": [
        "- Con esta función, extrayendo los datos que nos interesan, y un pequeño `for loop` para iterar sobre las diferentes llaves, podemos construir una lista de DataFrames con las mismas columnas:"
      ],
      "metadata": {
        "id": "9dcHGtdY7V3M"
      }
    },
    {
      "cell_type": "code",
      "source": [
        "generos = ['pop', 'rock']\n",
        "paises = ['usa', 'uk']\n",
        "\n",
        "df_list = []\n",
        "\n",
        "for genero in generos:\n",
        "\n",
        "  for pais in paises:\n",
        "\n",
        "    df = parse_dict(data, genero, pais)\n",
        "    df_list.append(df)"
      ],
      "metadata": {
        "id": "HWoGhGZ_u0jW"
      },
      "execution_count": null,
      "outputs": []
    },
    {
      "cell_type": "code",
      "source": [
        "df_list[1]"
      ],
      "metadata": {
        "colab": {
          "base_uri": "https://localhost:8080/",
          "height": 112
        },
        "id": "hzCtOp43vfBo",
        "outputId": "33c720bc-4903-49a1-c6c0-9008333d118f"
      },
      "execution_count": null,
      "outputs": [
        {
          "output_type": "execute_result",
          "data": {
            "text/plain": [
              "   id       nombre decada plataforma genero pais\n",
              "0   3  The Beatles   1970    Spotify    pop   uk\n",
              "1   4        Oasis   1970    Spotify    pop   uk"
            ],
            "text/html": [
              "\n",
              "  <div id=\"df-8d7346e4-7356-4ca4-9c11-ad15dc81cb34\">\n",
              "    <div class=\"colab-df-container\">\n",
              "      <div>\n",
              "<style scoped>\n",
              "    .dataframe tbody tr th:only-of-type {\n",
              "        vertical-align: middle;\n",
              "    }\n",
              "\n",
              "    .dataframe tbody tr th {\n",
              "        vertical-align: top;\n",
              "    }\n",
              "\n",
              "    .dataframe thead th {\n",
              "        text-align: right;\n",
              "    }\n",
              "</style>\n",
              "<table border=\"1\" class=\"dataframe\">\n",
              "  <thead>\n",
              "    <tr style=\"text-align: right;\">\n",
              "      <th></th>\n",
              "      <th>id</th>\n",
              "      <th>nombre</th>\n",
              "      <th>decada</th>\n",
              "      <th>plataforma</th>\n",
              "      <th>genero</th>\n",
              "      <th>pais</th>\n",
              "    </tr>\n",
              "  </thead>\n",
              "  <tbody>\n",
              "    <tr>\n",
              "      <th>0</th>\n",
              "      <td>3</td>\n",
              "      <td>The Beatles</td>\n",
              "      <td>1970</td>\n",
              "      <td>Spotify</td>\n",
              "      <td>pop</td>\n",
              "      <td>uk</td>\n",
              "    </tr>\n",
              "    <tr>\n",
              "      <th>1</th>\n",
              "      <td>4</td>\n",
              "      <td>Oasis</td>\n",
              "      <td>1970</td>\n",
              "      <td>Spotify</td>\n",
              "      <td>pop</td>\n",
              "      <td>uk</td>\n",
              "    </tr>\n",
              "  </tbody>\n",
              "</table>\n",
              "</div>\n",
              "      <button class=\"colab-df-convert\" onclick=\"convertToInteractive('df-8d7346e4-7356-4ca4-9c11-ad15dc81cb34')\"\n",
              "              title=\"Convert this dataframe to an interactive table.\"\n",
              "              style=\"display:none;\">\n",
              "        \n",
              "  <svg xmlns=\"http://www.w3.org/2000/svg\" height=\"24px\"viewBox=\"0 0 24 24\"\n",
              "       width=\"24px\">\n",
              "    <path d=\"M0 0h24v24H0V0z\" fill=\"none\"/>\n",
              "    <path d=\"M18.56 5.44l.94 2.06.94-2.06 2.06-.94-2.06-.94-.94-2.06-.94 2.06-2.06.94zm-11 1L8.5 8.5l.94-2.06 2.06-.94-2.06-.94L8.5 2.5l-.94 2.06-2.06.94zm10 10l.94 2.06.94-2.06 2.06-.94-2.06-.94-.94-2.06-.94 2.06-2.06.94z\"/><path d=\"M17.41 7.96l-1.37-1.37c-.4-.4-.92-.59-1.43-.59-.52 0-1.04.2-1.43.59L10.3 9.45l-7.72 7.72c-.78.78-.78 2.05 0 2.83L4 21.41c.39.39.9.59 1.41.59.51 0 1.02-.2 1.41-.59l7.78-7.78 2.81-2.81c.8-.78.8-2.07 0-2.86zM5.41 20L4 18.59l7.72-7.72 1.47 1.35L5.41 20z\"/>\n",
              "  </svg>\n",
              "      </button>\n",
              "      \n",
              "  <style>\n",
              "    .colab-df-container {\n",
              "      display:flex;\n",
              "      flex-wrap:wrap;\n",
              "      gap: 12px;\n",
              "    }\n",
              "\n",
              "    .colab-df-convert {\n",
              "      background-color: #E8F0FE;\n",
              "      border: none;\n",
              "      border-radius: 50%;\n",
              "      cursor: pointer;\n",
              "      display: none;\n",
              "      fill: #1967D2;\n",
              "      height: 32px;\n",
              "      padding: 0 0 0 0;\n",
              "      width: 32px;\n",
              "    }\n",
              "\n",
              "    .colab-df-convert:hover {\n",
              "      background-color: #E2EBFA;\n",
              "      box-shadow: 0px 1px 2px rgba(60, 64, 67, 0.3), 0px 1px 3px 1px rgba(60, 64, 67, 0.15);\n",
              "      fill: #174EA6;\n",
              "    }\n",
              "\n",
              "    [theme=dark] .colab-df-convert {\n",
              "      background-color: #3B4455;\n",
              "      fill: #D2E3FC;\n",
              "    }\n",
              "\n",
              "    [theme=dark] .colab-df-convert:hover {\n",
              "      background-color: #434B5C;\n",
              "      box-shadow: 0px 1px 3px 1px rgba(0, 0, 0, 0.15);\n",
              "      filter: drop-shadow(0px 1px 2px rgba(0, 0, 0, 0.3));\n",
              "      fill: #FFFFFF;\n",
              "    }\n",
              "  </style>\n",
              "\n",
              "      <script>\n",
              "        const buttonEl =\n",
              "          document.querySelector('#df-8d7346e4-7356-4ca4-9c11-ad15dc81cb34 button.colab-df-convert');\n",
              "        buttonEl.style.display =\n",
              "          google.colab.kernel.accessAllowed ? 'block' : 'none';\n",
              "\n",
              "        async function convertToInteractive(key) {\n",
              "          const element = document.querySelector('#df-8d7346e4-7356-4ca4-9c11-ad15dc81cb34');\n",
              "          const dataTable =\n",
              "            await google.colab.kernel.invokeFunction('convertToInteractive',\n",
              "                                                     [key], {});\n",
              "          if (!dataTable) return;\n",
              "\n",
              "          const docLinkHtml = 'Like what you see? Visit the ' +\n",
              "            '<a target=\"_blank\" href=https://colab.research.google.com/notebooks/data_table.ipynb>data table notebook</a>'\n",
              "            + ' to learn more about interactive tables.';\n",
              "          element.innerHTML = '';\n",
              "          dataTable['output_type'] = 'display_data';\n",
              "          await google.colab.output.renderOutput(dataTable, element);\n",
              "          const docLink = document.createElement('div');\n",
              "          docLink.innerHTML = docLinkHtml;\n",
              "          element.appendChild(docLink);\n",
              "        }\n",
              "      </script>\n",
              "    </div>\n",
              "  </div>\n",
              "  "
            ]
          },
          "metadata": {},
          "execution_count": 27
        }
      ]
    },
    {
      "cell_type": "markdown",
      "source": [
        "- Para transformar toda esta lista de DataFrames en uno sólo, simplemente usaremos la función `pd.concat(df_list)`"
      ],
      "metadata": {
        "id": "wHml1lp7-AMv"
      }
    },
    {
      "cell_type": "code",
      "source": [
        "df_unido = pd.concat(df_list, ignore_index = True)\n",
        "\n",
        "df_unido"
      ],
      "metadata": {
        "colab": {
          "base_uri": "https://localhost:8080/",
          "height": 300
        },
        "id": "R7_4CdOwvhrj",
        "outputId": "7a6ffa9f-a16f-4883-90c0-f1720014906a"
      },
      "execution_count": null,
      "outputs": [
        {
          "output_type": "execute_result",
          "data": {
            "text/plain": [
              "   id       nombre decada plataforma genero pais\n",
              "0   1           U2   1970    Spotify    pop  usa\n",
              "1   2    Take That   1970    Spotify    pop  usa\n",
              "2   3  The Beatles   1970    Spotify    pop   uk\n",
              "3   4        Oasis   1970    Spotify    pop   uk\n",
              "4   5      Nirvana   1970    Spotify   rock  usa\n",
              "5   6    Aerosmith   1970    Spotify   rock  usa\n",
              "6   7   Pink Floyd   1970    Spotify   rock   uk\n",
              "7   8      The Who   1970    Spotify   rock   uk"
            ],
            "text/html": [
              "\n",
              "  <div id=\"df-7ebb1509-4e37-4045-b9e4-99f5e4e1857d\">\n",
              "    <div class=\"colab-df-container\">\n",
              "      <div>\n",
              "<style scoped>\n",
              "    .dataframe tbody tr th:only-of-type {\n",
              "        vertical-align: middle;\n",
              "    }\n",
              "\n",
              "    .dataframe tbody tr th {\n",
              "        vertical-align: top;\n",
              "    }\n",
              "\n",
              "    .dataframe thead th {\n",
              "        text-align: right;\n",
              "    }\n",
              "</style>\n",
              "<table border=\"1\" class=\"dataframe\">\n",
              "  <thead>\n",
              "    <tr style=\"text-align: right;\">\n",
              "      <th></th>\n",
              "      <th>id</th>\n",
              "      <th>nombre</th>\n",
              "      <th>decada</th>\n",
              "      <th>plataforma</th>\n",
              "      <th>genero</th>\n",
              "      <th>pais</th>\n",
              "    </tr>\n",
              "  </thead>\n",
              "  <tbody>\n",
              "    <tr>\n",
              "      <th>0</th>\n",
              "      <td>1</td>\n",
              "      <td>U2</td>\n",
              "      <td>1970</td>\n",
              "      <td>Spotify</td>\n",
              "      <td>pop</td>\n",
              "      <td>usa</td>\n",
              "    </tr>\n",
              "    <tr>\n",
              "      <th>1</th>\n",
              "      <td>2</td>\n",
              "      <td>Take That</td>\n",
              "      <td>1970</td>\n",
              "      <td>Spotify</td>\n",
              "      <td>pop</td>\n",
              "      <td>usa</td>\n",
              "    </tr>\n",
              "    <tr>\n",
              "      <th>2</th>\n",
              "      <td>3</td>\n",
              "      <td>The Beatles</td>\n",
              "      <td>1970</td>\n",
              "      <td>Spotify</td>\n",
              "      <td>pop</td>\n",
              "      <td>uk</td>\n",
              "    </tr>\n",
              "    <tr>\n",
              "      <th>3</th>\n",
              "      <td>4</td>\n",
              "      <td>Oasis</td>\n",
              "      <td>1970</td>\n",
              "      <td>Spotify</td>\n",
              "      <td>pop</td>\n",
              "      <td>uk</td>\n",
              "    </tr>\n",
              "    <tr>\n",
              "      <th>4</th>\n",
              "      <td>5</td>\n",
              "      <td>Nirvana</td>\n",
              "      <td>1970</td>\n",
              "      <td>Spotify</td>\n",
              "      <td>rock</td>\n",
              "      <td>usa</td>\n",
              "    </tr>\n",
              "    <tr>\n",
              "      <th>5</th>\n",
              "      <td>6</td>\n",
              "      <td>Aerosmith</td>\n",
              "      <td>1970</td>\n",
              "      <td>Spotify</td>\n",
              "      <td>rock</td>\n",
              "      <td>usa</td>\n",
              "    </tr>\n",
              "    <tr>\n",
              "      <th>6</th>\n",
              "      <td>7</td>\n",
              "      <td>Pink Floyd</td>\n",
              "      <td>1970</td>\n",
              "      <td>Spotify</td>\n",
              "      <td>rock</td>\n",
              "      <td>uk</td>\n",
              "    </tr>\n",
              "    <tr>\n",
              "      <th>7</th>\n",
              "      <td>8</td>\n",
              "      <td>The Who</td>\n",
              "      <td>1970</td>\n",
              "      <td>Spotify</td>\n",
              "      <td>rock</td>\n",
              "      <td>uk</td>\n",
              "    </tr>\n",
              "  </tbody>\n",
              "</table>\n",
              "</div>\n",
              "      <button class=\"colab-df-convert\" onclick=\"convertToInteractive('df-7ebb1509-4e37-4045-b9e4-99f5e4e1857d')\"\n",
              "              title=\"Convert this dataframe to an interactive table.\"\n",
              "              style=\"display:none;\">\n",
              "        \n",
              "  <svg xmlns=\"http://www.w3.org/2000/svg\" height=\"24px\"viewBox=\"0 0 24 24\"\n",
              "       width=\"24px\">\n",
              "    <path d=\"M0 0h24v24H0V0z\" fill=\"none\"/>\n",
              "    <path d=\"M18.56 5.44l.94 2.06.94-2.06 2.06-.94-2.06-.94-.94-2.06-.94 2.06-2.06.94zm-11 1L8.5 8.5l.94-2.06 2.06-.94-2.06-.94L8.5 2.5l-.94 2.06-2.06.94zm10 10l.94 2.06.94-2.06 2.06-.94-2.06-.94-.94-2.06-.94 2.06-2.06.94z\"/><path d=\"M17.41 7.96l-1.37-1.37c-.4-.4-.92-.59-1.43-.59-.52 0-1.04.2-1.43.59L10.3 9.45l-7.72 7.72c-.78.78-.78 2.05 0 2.83L4 21.41c.39.39.9.59 1.41.59.51 0 1.02-.2 1.41-.59l7.78-7.78 2.81-2.81c.8-.78.8-2.07 0-2.86zM5.41 20L4 18.59l7.72-7.72 1.47 1.35L5.41 20z\"/>\n",
              "  </svg>\n",
              "      </button>\n",
              "      \n",
              "  <style>\n",
              "    .colab-df-container {\n",
              "      display:flex;\n",
              "      flex-wrap:wrap;\n",
              "      gap: 12px;\n",
              "    }\n",
              "\n",
              "    .colab-df-convert {\n",
              "      background-color: #E8F0FE;\n",
              "      border: none;\n",
              "      border-radius: 50%;\n",
              "      cursor: pointer;\n",
              "      display: none;\n",
              "      fill: #1967D2;\n",
              "      height: 32px;\n",
              "      padding: 0 0 0 0;\n",
              "      width: 32px;\n",
              "    }\n",
              "\n",
              "    .colab-df-convert:hover {\n",
              "      background-color: #E2EBFA;\n",
              "      box-shadow: 0px 1px 2px rgba(60, 64, 67, 0.3), 0px 1px 3px 1px rgba(60, 64, 67, 0.15);\n",
              "      fill: #174EA6;\n",
              "    }\n",
              "\n",
              "    [theme=dark] .colab-df-convert {\n",
              "      background-color: #3B4455;\n",
              "      fill: #D2E3FC;\n",
              "    }\n",
              "\n",
              "    [theme=dark] .colab-df-convert:hover {\n",
              "      background-color: #434B5C;\n",
              "      box-shadow: 0px 1px 3px 1px rgba(0, 0, 0, 0.15);\n",
              "      filter: drop-shadow(0px 1px 2px rgba(0, 0, 0, 0.3));\n",
              "      fill: #FFFFFF;\n",
              "    }\n",
              "  </style>\n",
              "\n",
              "      <script>\n",
              "        const buttonEl =\n",
              "          document.querySelector('#df-7ebb1509-4e37-4045-b9e4-99f5e4e1857d button.colab-df-convert');\n",
              "        buttonEl.style.display =\n",
              "          google.colab.kernel.accessAllowed ? 'block' : 'none';\n",
              "\n",
              "        async function convertToInteractive(key) {\n",
              "          const element = document.querySelector('#df-7ebb1509-4e37-4045-b9e4-99f5e4e1857d');\n",
              "          const dataTable =\n",
              "            await google.colab.kernel.invokeFunction('convertToInteractive',\n",
              "                                                     [key], {});\n",
              "          if (!dataTable) return;\n",
              "\n",
              "          const docLinkHtml = 'Like what you see? Visit the ' +\n",
              "            '<a target=\"_blank\" href=https://colab.research.google.com/notebooks/data_table.ipynb>data table notebook</a>'\n",
              "            + ' to learn more about interactive tables.';\n",
              "          element.innerHTML = '';\n",
              "          dataTable['output_type'] = 'display_data';\n",
              "          await google.colab.output.renderOutput(dataTable, element);\n",
              "          const docLink = document.createElement('div');\n",
              "          docLink.innerHTML = docLinkHtml;\n",
              "          element.appendChild(docLink);\n",
              "        }\n",
              "      </script>\n",
              "    </div>\n",
              "  </div>\n",
              "  "
            ]
          },
          "metadata": {},
          "execution_count": 28
        }
      ]
    },
    {
      "cell_type": "markdown",
      "source": [
        "# De DataFrame a JSON"
      ],
      "metadata": {
        "id": "Ilg1rQ-y-ogp"
      }
    },
    {
      "cell_type": "markdown",
      "source": [
        "- Si queremos volver a transformar el contenido de nuestro *DataFrame* a un archivo JSON después de haber hecho las modificaciones pertinentes, tenemos el método del *DataFrame* `.to_json()`\n",
        "- Este método serializa y formatea nuestro df para poder guardar este archivo.\n",
        "\n"
      ],
      "metadata": {
        "id": "IrP1ZsvW_o4e"
      }
    },
    {
      "cell_type": "code",
      "source": [
        "nuevo_json = df_unido.to_json()\n",
        "\n",
        "nuevo_json"
      ],
      "metadata": {
        "colab": {
          "base_uri": "https://localhost:8080/",
          "height": 72
        },
        "id": "rJGEXtTe0PZL",
        "outputId": "48db6ea6-6545-4da7-bbb9-27f90ba0f61c"
      },
      "execution_count": null,
      "outputs": [
        {
          "output_type": "execute_result",
          "data": {
            "text/plain": [
              "'{\"id\":{\"0\":1,\"1\":2,\"2\":3,\"3\":4,\"4\":5,\"5\":6,\"6\":7,\"7\":8},\"nombre\":{\"0\":\"U2\",\"1\":\"Take That\",\"2\":\"The Beatles\",\"3\":\"Oasis\",\"4\":\"Nirvana\",\"5\":\"Aerosmith\",\"6\":\"Pink Floyd\",\"7\":\"The Who\"},\"decada\":{\"0\":1970,\"1\":1970,\"2\":1970,\"3\":1970,\"4\":1970,\"5\":1970,\"6\":1970,\"7\":1970},\"plataforma\":{\"0\":\"Spotify\",\"1\":\"Spotify\",\"2\":\"Spotify\",\"3\":\"Spotify\",\"4\":\"Spotify\",\"5\":\"Spotify\",\"6\":\"Spotify\",\"7\":\"Spotify\"},\"genero\":{\"0\":\"pop\",\"1\":\"pop\",\"2\":\"pop\",\"3\":\"pop\",\"4\":\"rock\",\"5\":\"rock\",\"6\":\"rock\",\"7\":\"rock\"},\"pais\":{\"0\":\"usa\",\"1\":\"usa\",\"2\":\"uk\",\"3\":\"uk\",\"4\":\"usa\",\"5\":\"usa\",\"6\":\"uk\",\"7\":\"uk\"}}'"
            ],
            "application/vnd.google.colaboratory.intrinsic+json": {
              "type": "string"
            }
          },
          "metadata": {},
          "execution_count": 29
        }
      ]
    },
    {
      "cell_type": "markdown",
      "source": [
        "## EXTRA! Estructura de exportación"
      ],
      "metadata": {
        "id": "lDBF64UdBwgx"
      }
    },
    {
      "cell_type": "markdown",
      "source": [
        "- Como vemos, aunque no hayamos modificado los *datos* contenidos en nuestro JSON, sí que hemos modificado su estructura.\n",
        "- Con json.loads() podemos transformar el objeto que hemos serializado de vuelta a un diccionario para comparar:"
      ],
      "metadata": {
        "id": "1FBTLbHjB2Dy"
      }
    },
    {
      "cell_type": "code",
      "source": [
        "## Compara la estructura de estos dos diccionarios:\n",
        "\n",
        "nuevo = json.loads(nuevo_json)\n",
        "dcts = [data, nuevo]\n",
        "\n",
        "print(json.dumps(dcts[1], indent = 2)) ## Sólo tienes que cambiar el índice de dcts"
      ],
      "metadata": {
        "colab": {
          "base_uri": "https://localhost:8080/"
        },
        "id": "f4cLrq5dIdPn",
        "outputId": "785e3100-dbcb-4b45-aa53-4b300119bf3d"
      },
      "execution_count": null,
      "outputs": [
        {
          "output_type": "stream",
          "name": "stdout",
          "text": [
            "{\n",
            "  \"id\": {\n",
            "    \"0\": 1,\n",
            "    \"1\": 2,\n",
            "    \"2\": 3,\n",
            "    \"3\": 4,\n",
            "    \"4\": 5,\n",
            "    \"5\": 6,\n",
            "    \"6\": 7,\n",
            "    \"7\": 8\n",
            "  },\n",
            "  \"nombre\": {\n",
            "    \"0\": \"U2\",\n",
            "    \"1\": \"Take That\",\n",
            "    \"2\": \"The Beatles\",\n",
            "    \"3\": \"Oasis\",\n",
            "    \"4\": \"Nirvana\",\n",
            "    \"5\": \"Aerosmith\",\n",
            "    \"6\": \"Pink Floyd\",\n",
            "    \"7\": \"The Who\"\n",
            "  },\n",
            "  \"decada\": {\n",
            "    \"0\": 1970,\n",
            "    \"1\": 1970,\n",
            "    \"2\": 1970,\n",
            "    \"3\": 1970,\n",
            "    \"4\": 1970,\n",
            "    \"5\": 1970,\n",
            "    \"6\": 1970,\n",
            "    \"7\": 1970\n",
            "  },\n",
            "  \"plataforma\": {\n",
            "    \"0\": \"Spotify\",\n",
            "    \"1\": \"Spotify\",\n",
            "    \"2\": \"Spotify\",\n",
            "    \"3\": \"Spotify\",\n",
            "    \"4\": \"Spotify\",\n",
            "    \"5\": \"Spotify\",\n",
            "    \"6\": \"Spotify\",\n",
            "    \"7\": \"Spotify\"\n",
            "  },\n",
            "  \"genero\": {\n",
            "    \"0\": \"pop\",\n",
            "    \"1\": \"pop\",\n",
            "    \"2\": \"pop\",\n",
            "    \"3\": \"pop\",\n",
            "    \"4\": \"rock\",\n",
            "    \"5\": \"rock\",\n",
            "    \"6\": \"rock\",\n",
            "    \"7\": \"rock\"\n",
            "  },\n",
            "  \"pais\": {\n",
            "    \"0\": \"usa\",\n",
            "    \"1\": \"usa\",\n",
            "    \"2\": \"uk\",\n",
            "    \"3\": \"uk\",\n",
            "    \"4\": \"usa\",\n",
            "    \"5\": \"usa\",\n",
            "    \"6\": \"uk\",\n",
            "    \"7\": \"uk\"\n",
            "  }\n",
            "}\n"
          ]
        }
      ]
    },
    {
      "cell_type": "markdown",
      "source": [
        "- Como vemos, Pandas ha aplicado una estructura diferente a  la que teníamos a la hora de transformar estos DataFrames a JSON.\n",
        "- La que ha aplicado, es una de las estructuras posibles a la hora de exportarlos. Hay diversas estructuras, y se pueden escoger a través de el parámetro `orient`. Tienes la documentación [aquí](https://pandas.pydata.org/docs/reference/api/pandas.DataFrame.to_json.html)."
      ],
      "metadata": {
        "id": "USUwTV-mIdFo"
      }
    },
    {
      "cell_type": "code",
      "source": [
        "## Explora las diferentes estructuras que ofrece pd.to_json(orient)!\n",
        "\n"
      ],
      "metadata": {
        "id": "K9TptGjFIc39"
      },
      "execution_count": null,
      "outputs": []
    },
    {
      "cell_type": "markdown",
      "source": [
        "# Exportando a archivo .json"
      ],
      "metadata": {
        "id": "6xLtElBVKDdL"
      }
    },
    {
      "cell_type": "markdown",
      "source": [
        "- Para exportar estos archivos, ya sea desde un DataFrame fromateado y serializado desde `.to_json()`, o desde un diccionario normal, el método json.dump() es nuestra herramienta.\n",
        "- Y la usamos exactamente igual que json.load(), a través de un with statement"
      ],
      "metadata": {
        "id": "2vkRIKv1KNuF"
      }
    },
    {
      "cell_type": "code",
      "source": [
        "with open('music_3.json', 'w') as f:\n",
        "\n",
        "  json.dump(data, f)"
      ],
      "metadata": {
        "id": "wnarwb4u0pME"
      },
      "execution_count": null,
      "outputs": []
    },
    {
      "cell_type": "markdown",
      "source": [
        "- Esta función guardará nuestro **JSON** como `'music_3.json'` en nuestro directorio de trabajo\n",
        "- **Para conservarlo, tendrás que descargarlo desde el gestor de archivos, sinó se perderá una vez salgas del entorno de ejecución!!**"
      ],
      "metadata": {
        "id": "dNV_G2qi1Z6O"
      }
    },
    {
      "cell_type": "markdown",
      "source": [
        "# Ejercicios "
      ],
      "metadata": {
        "id": "ZBUSKKRj1owX"
      }
    },
    {
      "cell_type": "markdown",
      "source": [
        "- Te he facilitado 3 archivos JSON con estructuras diferentes [aquí](https://drive.google.com/file/d/1Ukn0y_JZzv9S7js2ifa1_ldHqQGse8gq/view?usp=sharing), [aquí](https://drive.google.com/file/d/1UqWLYbC5XjsVVIob0ewsEfGIc9yBkqKJ/view?usp=sharing) y [aquí](https://drive.google.com/file/d/1TcX3ZDVhQqBmBgRoyrwXVOVcD-WOwnQI/view?usp=sharing).\n",
        "- Descárgalos, y tendrás que:\n",
        "  - Importarlos como diccionario\n",
        "  - Explorar su estructura\n",
        "  - Transformarlo a DataFrame sin perder valores\n",
        "  - Guardarlos con 3 modelos de estructura diferentes, bajo tu elección.\n",
        "\n",
        "¡Ánimo!"
      ],
      "metadata": {
        "id": "YzrImPhrVkbK"
      }
    },
    {
      "cell_type": "code",
      "source": [
        "## Código aquí (datos1.json)\n",
        "\n",
        "\n"
      ],
      "metadata": {
        "id": "xLpwOZfDWYuq"
      },
      "execution_count": null,
      "outputs": []
    },
    {
      "cell_type": "code",
      "source": [
        "## Código aquí (datos2.json)\n",
        "\n",
        "\n"
      ],
      "metadata": {
        "id": "Rop6DDV44NSc"
      },
      "execution_count": null,
      "outputs": []
    },
    {
      "cell_type": "code",
      "source": [
        "## Código aquí (datos3.json)\n",
        "\n",
        "\n"
      ],
      "metadata": {
        "id": "7MLpXMAK4Nb_"
      },
      "execution_count": null,
      "outputs": []
    }
  ]
}